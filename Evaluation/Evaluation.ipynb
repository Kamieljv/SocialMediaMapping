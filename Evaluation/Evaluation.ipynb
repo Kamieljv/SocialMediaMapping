{
 "cells": [
  {
   "cell_type": "markdown",
   "metadata": {},
   "source": [
    "# Evaluation of Unmapped Area Predictions"
   ]
  },
  {
   "cell_type": "code",
   "execution_count": null,
   "metadata": {},
   "outputs": [],
   "source": [
    "\"\"\"\n",
    "Modified on Tue 19 Jun 2018\n",
    "@author: Kamieljv (GitHub)\n",
    "Evaluation.ipynb:\n",
    "    Compares the predictions of various models with the ground truth\n",
    "    Outputs accuracy, precision, recall and f-score\n",
    "\"\"\""
   ]
  },
  {
   "cell_type": "code",
   "execution_count": null,
   "metadata": {},
   "outputs": [],
   "source": [
    "import csv\n",
    "import numpy as np"
   ]
  },
  {
   "cell_type": "markdown",
   "metadata": {},
   "source": [
    "### Loading the data\n",
    "The code cell below gives an example of how you could load your data into the script."
   ]
  },
  {
   "cell_type": "code",
   "execution_count": null,
   "metadata": {},
   "outputs": [],
   "source": [
    "# INITIALIZATIONS\n",
    "ids = [] #list of the cell ids\n",
    "GT = [] #list of ground truth values\n",
    "d_rd = [] #list of (log) differences between tweets and roads\n",
    "d_bd = [] #list of (log) differences between tweets and buildings\n",
    "\n",
    "filename = '' #ground truth filename\n",
    "folder = '' #ground truth folder\n",
    "with open(folder + filename + '.csv', 'r') as file:\n",
    "    reader = csv.reader(file)\n",
    "    for line in reader:\n",
    "        if line[0]=='id':\n",
    "            print(line)\n",
    "            headers = dict() #creating a dictionary of column names and indices, for clarity and convenience\n",
    "            for i,col in enumerate(line):\n",
    "                headers[col] = i\n",
    "        else: #write the correct column names in headers['XXX']\n",
    "            ids.append(int(line[headers['id']]))\n",
    "            GT.append(int(line[headers['Grnd_tr']]))\n",
    "            d_rd.append(float(line[headers['d_log2_t_r']]))\n",
    "            d_bd.append(float(line[headers['d_log2_t_b']]))\n",
    "\n",
    "\n",
    "            \n",
    "#CONVERT ALL LISTS TO NP ARRAYS            \n",
    "ids = np.array(ids)\n",
    "GT = np.array(GT)\n",
    "d_rd = np.array(d_rd)\n",
    "d_bd = np.array(d_bd)\n",
    "\n",
    "print('=> Loaded the data.')"
   ]
  },
  {
   "cell_type": "markdown",
   "metadata": {},
   "source": [
    "### Preparing data"
   ]
  },
  {
   "cell_type": "code",
   "execution_count": null,
   "metadata": {},
   "outputs": [],
   "source": [
    "#Creating binary arrays\n",
    "GT_bin = [1 if val == 1 else 0 for val in GT]\n",
    "d_rd_bin = [1 if val > 0 else 0 for val in d_rd]\n",
    "d_bd_bin = [1 if val > 0 else 0 for val in d_bd]\n",
    "\n",
    "#Examples of combination models\n",
    "# comb_diffGird_regrrd = [1 if (diff==1 or regr==1) else 0 for diff, regr in zip(d_rd_Gi_bin, reg_rd_bin)]\n",
    "# comb_diffrd_spearrd = [1 if (spear>0 and spear<0.4 and diff==1) else 0 for spear, diff in zip(spear_rd, d_rd_bin)]\n",
    "# comb_regrd_spearrd = [1 if (spear>0 and spear<0.4 and regr==1) else 0 for spear, regr in zip(spear_rd, reg_rd_bin)]\n",
    "# comb_diffGibd_regrbd = [1 if (diff==1 or regr==1) else 0 for diff, regr in zip(d_bd_Gi_bin, reg_bd_bin)]\n",
    "# comb_diffbd_spearbd = [1 if (spear>0 and spear<0.4 and diff==1) else 0 for spear, diff in zip(spear_bd, d_bd_bin)]\n",
    "# comb_spearrd_twtdens = [1 if (spear>0 and spear<.4 and twt==1) else 0 for spear, twt in zip(spear_rd, twt_dens_bin)]"
   ]
  },
  {
   "cell_type": "markdown",
   "metadata": {},
   "source": [
    "### Performance tests"
   ]
  },
  {
   "cell_type": "code",
   "execution_count": null,
   "metadata": {},
   "outputs": [],
   "source": [
    "def performance_metrics(true, pred):\n",
    "    tp = sum([1 if (t==1 and p==1) else 0 for t, p in zip(true, pred)])\n",
    "    fp = sum([1 if (t==0 and p==1) else 0 for t, p in zip(true, pred)])\n",
    "    fn = sum([1 if (t==1 and p==0) else 0 for t, p in zip(true, pred)])\n",
    "    tn = sum([1 if (t==0 and p==0) else 0 for t, p in zip(true, pred)])\n",
    "    \n",
    "    acc = (tp+tn)/(tp+tn+fp+fn)\n",
    "    prec = tp/(tp+fp)\n",
    "    rec = tp/(tp+fn)\n",
    "    return acc, prec, rec"
   ]
  },
  {
   "cell_type": "code",
   "execution_count": null,
   "metadata": {},
   "outputs": [],
   "source": [
    "print('Performance Diff.Rd.: ',performance_metrics(GT_bin, d_rd_bin))\n",
    "print('Performance Diff.Bd.: ',performance_metrics(GT_bin, d_bd_bin))\n",
    "\n",
    "print('Combi Performance Regr.DiffGi.Rd.: ',performance_metrics(GT_bin, comb_diffGird_regrrd))\n",
    "print('Combi Performance Spear.Diff.Rd: ',performance_metrics(GT_bin, comb_diffrd_spearrd))\n",
    "print('Combi Performance Regr.DiffGi.Bd.: ',performance_metrics(GT_bin, comb_diffGibd_regrbd))\n",
    "print('Combi Performance Spear.Diff.Bd: ',performance_metrics(GT_bin, comb_diffbd_spearbd))\n",
    "print('COmbi Performance Spear.Rd.Regr.: ', performance_metrics(GT_bin, comb_regrd_spearrd))"
   ]
  }
 ],
 "metadata": {
  "kernelspec": {
   "display_name": "Python 3",
   "language": "python",
   "name": "python3"
  },
  "language_info": {
   "codemirror_mode": {
    "name": "ipython",
    "version": 3
   },
   "file_extension": ".py",
   "mimetype": "text/x-python",
   "name": "python",
   "nbconvert_exporter": "python",
   "pygments_lexer": "ipython3",
   "version": "3.5.5"
  }
 },
 "nbformat": 4,
 "nbformat_minor": 2
}
