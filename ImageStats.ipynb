{
 "cells": [
  {
   "cell_type": "markdown",
   "metadata": {},
   "source": [
    "# Calculating Image Stats"
   ]
  },
  {
   "cell_type": "markdown",
   "metadata": {},
   "source": [
    "Code adapted from 'Maratyszcza' (GitHub)\n",
    "\n",
    "https://github.com/mratsim/Amazon-Forest-Computer-Vision/blob/master/compute-mean-std.py#L28"
   ]
  },
  {
   "cell_type": "code",
   "execution_count": null,
   "metadata": {},
   "outputs": [],
   "source": [
    "import cv2\n",
    "import numpy as np\n",
    "import pandas as pd\n",
    "import os\n",
    "from tqdm import tqdm\n",
    "\n",
    "RESOLUTION = 96 # Ideally we shouldn't be resizing but I'm lacking memory\n",
    "\n",
    "if __name__ == \"__main__\":\n",
    "    data = []\n",
    "    data_dir = ''\n",
    "    data_lst = os.listdir(data_dir)\n",
    "    for file in tqdm(data_lst, miniters=256):\n",
    "        img = cv2.imread(data_dir + file)\n",
    "        data.append(cv2.resize(img,(RESOLUTION,RESOLUTION)))\n",
    "\n",
    "    data = np.array(data, np.float32) / 255 # Must use float32 at least otherwise we get over float16 limits\n",
    "    print(\"Shape: \", data.shape)\n",
    "\n",
    "    means = []\n",
    "    stdevs = []\n",
    "    for i in range(3):\n",
    "        pixels = data[:,:,:,i].ravel()\n",
    "        means.append(np.mean(pixels))\n",
    "        stdevs.append(np.std(pixels))\n",
    "\n",
    "    print(\"means: {}\".format(means))\n",
    "    print(\"stdevs: {}\".format(stdevs))\n",
    "    print('transforms.Normalize(mean = {}, std = {})'.format(means, stdevs))"
   ]
  },
  {
   "cell_type": "code",
   "execution_count": null,
   "metadata": {},
   "outputs": [],
   "source": []
  }
 ],
 "metadata": {
  "kernelspec": {
   "display_name": "Python 3",
   "language": "python",
   "name": "python3"
  },
  "language_info": {
   "codemirror_mode": {
    "name": "ipython",
    "version": 3
   },
   "file_extension": ".py",
   "mimetype": "text/x-python",
   "name": "python",
   "nbconvert_exporter": "python",
   "pygments_lexer": "ipython3",
   "version": "3.5.5"
  }
 },
 "nbformat": 4,
 "nbformat_minor": 2
}
